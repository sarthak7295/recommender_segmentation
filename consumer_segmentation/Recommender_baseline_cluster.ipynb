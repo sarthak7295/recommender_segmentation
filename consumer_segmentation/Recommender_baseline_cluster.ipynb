{
 "cells": [
  {
   "cell_type": "code",
   "execution_count": 1,
   "metadata": {
    "colab": {
     "base_uri": "https://localhost:8080/"
    },
    "id": "EVvFASiPd30P",
    "outputId": "b5a31980-74d7-4b76-8804-b546ccbb1d01"
   },
   "outputs": [
    {
     "name": "stdout",
     "output_type": "stream",
     "text": [
      "Setup done\n"
     ]
    }
   ],
   "source": [
    "import pandas as pd\n",
    "import numpy as np\n",
    "import tensorflow as tf\n",
    "from tensorflow import keras\n",
    "from tensorflow.keras import layers\n",
    "import matplotlib.pyplot as plt\n",
    "print('Setup done')"
   ]
  },
  {
   "cell_type": "code",
   "execution_count": 2,
   "metadata": {
    "colab": {
     "base_uri": "https://localhost:8080/"
    },
    "id": "u-lU34qpOGt4",
    "outputId": "7456e15d-3d02-484e-b0f1-1b51393252df"
   },
   "outputs": [],
   "source": [
    "# from google.colab import drive\n",
    "\n",
    "# drive.mount('/content/gdrive',force_remount=True)"
   ]
  },
  {
   "cell_type": "markdown",
   "metadata": {},
   "source": [
    "### Reading csv"
   ]
  },
  {
   "cell_type": "code",
   "execution_count": 2,
   "metadata": {
    "colab": {
     "base_uri": "https://localhost:8080/"
    },
    "id": "eFJj83sOIbgn",
    "outputId": "891dd4fe-eb6b-4f29-91e0-1fa1cd0c6284"
   },
   "outputs": [
    {
     "name": "stdout",
     "output_type": "stream",
     "text": [
      "dataset Loaded\n"
     ]
    }
   ],
   "source": [
    "df = pd.read_csv('./dataset/dataset_brazil.csv')\n",
    "df['Date']= pd.to_datetime(df['Date'])\n",
    "\n",
    "df_client_rfm = pd.read_csv('./dataset/client_rfm.csv', sep=',')\n",
    "\n",
    "print(\"dataset Loaded\")"
   ]
  },
  {
   "cell_type": "code",
   "execution_count": 3,
   "metadata": {
    "id": "sZO_dyJfH2z2"
   },
   "outputs": [],
   "source": [
    "df_client_rfm = df_client_rfm[['Client','Rank_Recency','Rank_Frequency','Rank_Monetary','Cluster']]"
   ]
  },
  {
   "cell_type": "code",
   "execution_count": 4,
   "metadata": {
    "colab": {
     "base_uri": "https://localhost:8080/"
    },
    "id": "LzPcnzrWbbSR",
    "outputId": "6f08a6ad-b113-49ca-963d-fcff04822b78"
   },
   "outputs": [
    {
     "data": {
      "text/plain": [
       "10816"
      ]
     },
     "execution_count": 4,
     "metadata": {},
     "output_type": "execute_result"
    }
   ],
   "source": [
    "df_client_product = df[['Client','ProductId','Rating']].copy()\n",
    "df_client_product = pd.merge(df_client_product,df_client_rfm,on='Client',how='left')\n",
    "\n",
    "df_client_product.drop_duplicates(keep='first',inplace=True,subset=['Client','ProductId']) \n",
    "\n",
    "\n",
    "n_users = df_client_product['Client'].nunique()\n",
    "n_users"
   ]
  },
  {
   "cell_type": "code",
   "execution_count": 5,
   "metadata": {
    "colab": {
     "base_uri": "https://localhost:8080/"
    },
    "id": "4XVTttXNboxJ",
    "outputId": "eecbad78-e289-4548-dd98-53ffe242531e"
   },
   "outputs": [
    {
     "data": {
      "text/plain": [
       "54708"
      ]
     },
     "execution_count": 5,
     "metadata": {},
     "output_type": "execute_result"
    }
   ],
   "source": [
    "df_product = df[['ProductId','Product','Product Category','Product Cost']].copy()\n",
    "df_product.drop_duplicates(keep='first',inplace=True) \n",
    "\n",
    "n_prod = df_product['ProductId'].nunique()\n",
    "n_prod"
   ]
  },
  {
   "cell_type": "markdown",
   "metadata": {},
   "source": [
    "#### Enocding prod-ID"
   ]
  },
  {
   "cell_type": "code",
   "execution_count": 6,
   "metadata": {
    "id": "mCd_H3bhfsv3"
   },
   "outputs": [],
   "source": [
    "from sklearn.model_selection import train_test_split\n",
    "from sklearn.preprocessing import LabelEncoder\n",
    "\n",
    "prod_enc = LabelEncoder()\n",
    "df_client_product['Client'] = prod_enc.fit_transform(df_client_product['Client'].values)\n",
    "\n",
    "# prod_enc = LabelEncoder()\n",
    "# df_product['Product'] = prod_enc.fit_transform(df_product['Product'].values)\n",
    "\n",
    "# prod_cat_enc = LabelEncoder()\n",
    "# df_product['Product Category'] = prod_cat_enc.fit_transform(df_product['Product Category'].values)\n",
    "\n",
    "prod_id_enc = LabelEncoder()\n",
    "df_product['ProductId'] = prod_id_enc.fit_transform(df_product['ProductId'].values)\n",
    "df_client_product['ProductId'] = prod_id_enc.transform(df_client_product['ProductId'].values)"
   ]
  },
  {
   "cell_type": "markdown",
   "metadata": {},
   "source": [
    "Checking random products"
   ]
  },
  {
   "cell_type": "code",
   "execution_count": 7,
   "metadata": {},
   "outputs": [
    {
     "data": {
      "text/html": [
       "<div>\n",
       "<style scoped>\n",
       "    .dataframe tbody tr th:only-of-type {\n",
       "        vertical-align: middle;\n",
       "    }\n",
       "\n",
       "    .dataframe tbody tr th {\n",
       "        vertical-align: top;\n",
       "    }\n",
       "\n",
       "    .dataframe thead th {\n",
       "        text-align: right;\n",
       "    }\n",
       "</style>\n",
       "<table border=\"1\" class=\"dataframe\">\n",
       "  <thead>\n",
       "    <tr style=\"text-align: right;\">\n",
       "      <th></th>\n",
       "      <th>ProductId</th>\n",
       "      <th>Product</th>\n",
       "      <th>Product Category</th>\n",
       "      <th>Product Cost</th>\n",
       "    </tr>\n",
       "  </thead>\n",
       "  <tbody>\n",
       "    <tr>\n",
       "      <th>971956</th>\n",
       "      <td>4</td>\n",
       "      <td>Chewing Gum And Candy 390</td>\n",
       "      <td>Chewing Gum And Candy</td>\n",
       "      <td>0.108</td>\n",
       "    </tr>\n",
       "    <tr>\n",
       "      <th>1354440</th>\n",
       "      <td>5</td>\n",
       "      <td>Chewing Gum And Candy 741</td>\n",
       "      <td>Chewing Gum And Candy</td>\n",
       "      <td>0.120</td>\n",
       "    </tr>\n",
       "    <tr>\n",
       "      <th>1412252</th>\n",
       "      <td>2</td>\n",
       "      <td>Chocolates 19057</td>\n",
       "      <td>Chocolates</td>\n",
       "      <td>0.000</td>\n",
       "    </tr>\n",
       "  </tbody>\n",
       "</table>\n",
       "</div>"
      ],
      "text/plain": [
       "         ProductId                    Product       Product Category  \\\n",
       "971956           4  Chewing Gum And Candy 390  Chewing Gum And Candy   \n",
       "1354440          5  Chewing Gum And Candy 741  Chewing Gum And Candy   \n",
       "1412252          2           Chocolates 19057             Chocolates   \n",
       "\n",
       "         Product Cost  \n",
       "971956          0.108  \n",
       "1354440         0.120  \n",
       "1412252         0.000  "
      ]
     },
     "execution_count": 7,
     "metadata": {},
     "output_type": "execute_result"
    }
   ],
   "source": [
    "df_product.loc[df_product['ProductId'].isin([2,4,5])]"
   ]
  },
  {
   "cell_type": "markdown",
   "metadata": {},
   "source": [
    "### save product csv for flask"
   ]
  },
  {
   "cell_type": "code",
   "execution_count": 10,
   "metadata": {},
   "outputs": [],
   "source": [
    "# df_product.head()\n",
    "# df_product.to_csv('product.csv',index=False)"
   ]
  },
  {
   "cell_type": "code",
   "execution_count": 11,
   "metadata": {},
   "outputs": [],
   "source": [
    "# df_client_product"
   ]
  },
  {
   "cell_type": "code",
   "execution_count": 8,
   "metadata": {
    "id": "7v6zhZxepVn5"
   },
   "outputs": [],
   "source": [
    "train, test = train_test_split(df_client_product, test_size=0.2, random_state=42)"
   ]
  },
  {
   "cell_type": "code",
   "execution_count": 9,
   "metadata": {},
   "outputs": [],
   "source": [
    "lr_schedule = keras.optimizers.schedules.ExponentialDecay(\n",
    "    initial_learning_rate=1e-3,\n",
    "    decay_steps=10000,\n",
    "    decay_rate=0.9)\n",
    "\n",
    "opt = keras.optimizers.Adam(learning_rate=lr_schedule)\n",
    "\n",
    "from keras.layers import Input, Embedding, Flatten, Dot, Dense,Concatenate\n",
    "from keras.models import Model\n"
   ]
  },
  {
   "cell_type": "code",
   "execution_count": 10,
   "metadata": {
    "id": "YtpLXVolko_e"
   },
   "outputs": [],
   "source": [
    "# model 2\n",
    "def create_model_rfm():\n",
    "    product_input = Input(shape=[1], name=\"Product-Input\")\n",
    "\n",
    "    product_embedding = Embedding(n_prod+1, 5, name=\"Product-Embedding\")(product_input)\n",
    "    product_vec = Flatten(name=\"Flatten-Product\")(product_embedding)\n",
    "\n",
    "    user_input = Input(shape=[5], name=\"User-Input\")\n",
    "    user_embedding = Embedding(n_users+1, 8, name=\"User-Embedding\")(user_input)\n",
    "    user_vec = Flatten(name=\"Flatten-Users\")(user_embedding)\n",
    "    # prod = Dot(name=\"Dot-Product\", axes=1)([product_vec, user_vec])\n",
    "    concatted = Concatenate()([product_vec, user_vec])\n",
    "    d = Dense(4, kernel_initializer='normal')(concatted)\n",
    "    x = layers.Dropout(0.2)(d)\n",
    "    d1 = Dense(4, kernel_initializer='normal')(x)\n",
    "    x1 = layers.Dropout(0.2)(d1)\n",
    "    out = Dense(1, kernel_initializer='normal')(x1)\n",
    "    model_rfm = Model([user_input, product_input], out)\n",
    "    model_rfm.compile( loss='mean_squared_error',optimizer=opt)\n",
    "    return model_rfm"
   ]
  },
  {
   "cell_type": "code",
   "execution_count": 11,
   "metadata": {
    "colab": {
     "background_save": true,
     "base_uri": "https://localhost:8080/"
    },
    "id": "MGe3H3-hko-D",
    "outputId": "35b83d73-c28d-4963-dee6-8968b7f2000a"
   },
   "outputs": [
    {
     "name": "stdout",
     "output_type": "stream",
     "text": [
      "Epoch 1/5\n",
      "12577/12577 [==============================] - 45s 3ms/step - loss: 3.2544 - val_loss: 0.5217\n",
      "Epoch 2/5\n",
      "12577/12577 [==============================] - 41s 3ms/step - loss: 0.5365 - val_loss: 0.4696\n",
      "Epoch 3/5\n",
      "12577/12577 [==============================] - 42s 3ms/step - loss: 0.4793 - val_loss: 0.4591\n",
      "Epoch 4/5\n",
      "12577/12577 [==============================] - 42s 3ms/step - loss: 0.4603 - val_loss: 0.4491\n",
      "Epoch 5/5\n",
      "12577/12577 [==============================] - 42s 3ms/step - loss: 0.4425 - val_loss: 0.4478\n"
     ]
    }
   ],
   "source": [
    "model_rfm = create_model_rfm()\n",
    "\n",
    "history_rfm = model_rfm.fit([train[['Client','Rank_Recency','Rank_Frequency','Rank_Monetary','Cluster']],\n",
    "                             train[['ProductId']]], train['Rating'],\n",
    "                            validation_data=([test[['Client','Rank_Recency','Rank_Frequency','Rank_Monetary','Cluster']],\n",
    "                                              test['ProductId']], test['Rating']), epochs=5, verbose=1)\n",
    "# model_rfm.save('regression_model_rfm.h5')"
   ]
  },
  {
   "cell_type": "code",
   "execution_count": 12,
   "metadata": {},
   "outputs": [
    {
     "data": {
      "image/png": "[encoded data removed]",
      "text/plain": [
       "<Figure size 432x288 with 1 Axes>"
      ]
     },
     "metadata": {
      "needs_background": "light"
     },
     "output_type": "display_data"
    }
   ],
   "source": [
    "plt.plot(history_rfm.history[\"loss\"])\n",
    "plt.plot(history_rfm.history[\"val_loss\"])\n",
    "plt.title(\"model loss CLuster+RFM\")\n",
    "plt.ylabel(\"loss\")\n",
    "plt.xlabel(\"epoch\")\n",
    "plt.legend([\"train\", \"test\"], loc=\"upper right\")\n",
    "plt.show()"
   ]
  },
  {
   "cell_type": "code",
   "execution_count": 13,
   "metadata": {
    "colab": {
     "background_save": true
    },
    "id": "h-MO9eYwiOMU"
   },
   "outputs": [],
   "source": [
    "test[['Client','Rank_Recency','Rank_Frequency','Rank_Monetary','Cluster']].iloc[1]\n",
    "test['ProductId'].values\n"
   ]
  },
  {
   "cell_type": "code",
   "execution_count": 15,
   "metadata": {},
   "outputs": [],
   "source": [
    "product_db = np.array(list(set(df_client_product['ProductId'])))"
   ]
  },
  {
   "cell_type": "code",
   "execution_count": 16,
   "metadata": {
    "colab": {
     "background_save": true
    },
    "id": "RVkb1wdsldYW"
   },
   "outputs": [],
   "source": [
    "# Creating dataset for making recommendations for the first user\n",
    "# With RFM\n",
    "\n",
    "product_db = np.array(list(set(df_client_product['ProductId'])))\n",
    "\n",
    "user = test[['Client','Rank_Recency','Rank_Frequency','Rank_Monetary','Cluster']].iloc[1].values\n",
    "user_t = np.array([user for i in range(len(product_db))])\n",
    "\n",
    "predictions = model_rfm.predict([user_t, product_db])\n",
    "\n",
    "predictions = np.array([a[0] for a in predictions])\n",
    "\n",
    "# recommended_book_ids = (-predictions).argsort()[:5]\n",
    "# print(recommended_book_ids)\n",
    "# print(predictions[recommended_book_ids])"
   ]
  },
  {
   "cell_type": "code",
   "execution_count": 17,
   "metadata": {
    "colab": {
     "background_save": true
    },
    "id": "3eJxBd5zshr4",
    "outputId": "0a1913d8-2180-41e6-d7dc-296d5bfbbda6"
   },
   "outputs": [
    {
     "data": {
      "text/plain": [
       "array([4.757499 , 3.558114 , 3.9175649, ..., 4.7687674, 4.284773 ,\n",
       "       4.537291 ], dtype=float32)"
      ]
     },
     "execution_count": 17,
     "metadata": {},
     "output_type": "execute_result"
    }
   ],
   "source": [
    "predictions"
   ]
  },
  {
   "cell_type": "code",
   "execution_count": 18,
   "metadata": {
    "colab": {
     "background_save": true
    },
    "id": "v67EUYlysFUI",
    "outputId": "f3b490be-f840-4a18-e3d3-4fbe6b7a2f52"
   },
   "outputs": [
    {
     "data": {
      "text/plain": [
       "6.5145006"
      ]
     },
     "execution_count": 18,
     "metadata": {},
     "output_type": "execute_result"
    }
   ],
   "source": [
    "max(predictions)"
   ]
  }
 ],
 "metadata": {
  "accelerator": "GPU",
  "colab": {
   "collapsed_sections": [],
   "name": "Movie_len test.ipynb",
   "provenance": []
  },
  "kernelspec": {
   "display_name": "Python 3",
   "language": "python",
   "name": "python3"
  },
  "language_info": {
   "codemirror_mode": {
    "name": "ipython",
    "version": 3
   },
   "file_extension": ".py",
   "mimetype": "text/x-python",
   "name": "python",
   "nbconvert_exporter": "python",
   "pygments_lexer": "ipython3",
   "version": "3.8.6"
  }
 },
 "nbformat": 4,
 "nbformat_minor": 1
}
