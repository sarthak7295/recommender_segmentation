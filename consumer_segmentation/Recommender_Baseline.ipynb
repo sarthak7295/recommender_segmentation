{
 "cells": [
  {
   "cell_type": "code",
   "execution_count": 1,
   "metadata": {
    "colab": {
     "base_uri": "https://localhost:8080/"
    },
    "id": "EVvFASiPd30P",
    "outputId": "b5a31980-74d7-4b76-8804-b546ccbb1d01"
   },
   "outputs": [
    {
     "name": "stdout",
     "output_type": "stream",
     "text": [
      "Setup done\n"
     ]
    }
   ],
   "source": [
    "import pandas as pd\n",
    "import numpy as np\n",
    "import tensorflow as tf\n",
    "from tensorflow import keras\n",
    "from tensorflow.keras import layers\n",
    "import matplotlib.pyplot as plt\n",
    "print('Setup done')"
   ]
  },
  {
   "cell_type": "code",
   "execution_count": 2,
   "metadata": {
    "colab": {
     "base_uri": "https://localhost:8080/"
    },
    "id": "u-lU34qpOGt4",
    "outputId": "7456e15d-3d02-484e-b0f1-1b51393252df"
   },
   "outputs": [],
   "source": [
    "# from google.colab import drive\n",
    "\n",
    "# drive.mount('/content/gdrive',force_remount=True)"
   ]
  },
  {
   "cell_type": "markdown",
   "metadata": {},
   "source": [
    "### Reading csv"
   ]
  },
  {
   "cell_type": "code",
   "execution_count": 4,
   "metadata": {
    "colab": {
     "base_uri": "https://localhost:8080/"
    },
    "id": "eFJj83sOIbgn",
    "outputId": "891dd4fe-eb6b-4f29-91e0-1fa1cd0c6284"
   },
   "outputs": [
    {
     "name": "stdout",
     "output_type": "stream",
     "text": [
      "dataset Loaded\n"
     ]
    }
   ],
   "source": [
    "df = pd.read_csv('./dataset/dataset_brazil.csv')\n",
    "df['Date']= pd.to_datetime(df['Date'])\n",
    "\n",
    "df_client_rfm = pd.read_csv('./dataset/client_rfm.csv', sep=',')\n",
    "\n",
    "print(\"dataset Loaded\")"
   ]
  },
  {
   "cell_type": "code",
   "execution_count": 5,
   "metadata": {
    "id": "sZO_dyJfH2z2"
   },
   "outputs": [],
   "source": [
    "df_client_rfm = df_client_rfm[['Client','Rank_Recency','Rank_Frequency','Rank_Monetary','Cluster']]"
   ]
  },
  {
   "cell_type": "code",
   "execution_count": 6,
   "metadata": {},
   "outputs": [
    {
     "data": {
      "text/html": [
       "<div>\n",
       "<style scoped>\n",
       "    .dataframe tbody tr th:only-of-type {\n",
       "        vertical-align: middle;\n",
       "    }\n",
       "\n",
       "    .dataframe tbody tr th {\n",
       "        vertical-align: top;\n",
       "    }\n",
       "\n",
       "    .dataframe thead th {\n",
       "        text-align: right;\n",
       "    }\n",
       "</style>\n",
       "<table border=\"1\" class=\"dataframe\">\n",
       "  <thead>\n",
       "    <tr style=\"text-align: right;\">\n",
       "      <th></th>\n",
       "      <th>Unnamed: 0</th>\n",
       "      <th>Company Code</th>\n",
       "      <th>Order Number</th>\n",
       "      <th>Product</th>\n",
       "      <th>Product Category</th>\n",
       "      <th>Client</th>\n",
       "      <th>Client City</th>\n",
       "      <th>Product Cost</th>\n",
       "      <th>Discount Amount</th>\n",
       "      <th>Amount</th>\n",
       "      <th>Total</th>\n",
       "      <th>Form of payment</th>\n",
       "      <th>Date</th>\n",
       "      <th>ProductId</th>\n",
       "      <th>Rating</th>\n",
       "    </tr>\n",
       "  </thead>\n",
       "  <tbody>\n",
       "    <tr>\n",
       "      <th>1628920</th>\n",
       "      <td>1628920</td>\n",
       "      <td>10743000</td>\n",
       "      <td>1526356</td>\n",
       "      <td>Gasoline</td>\n",
       "      <td>Fuel</td>\n",
       "      <td>Angelo Wagner</td>\n",
       "      <td>Clinas</td>\n",
       "      <td>3.657</td>\n",
       "      <td>0.0</td>\n",
       "      <td>37.985</td>\n",
       "      <td>150.00</td>\n",
       "      <td>Extended payment plan/ In installments</td>\n",
       "      <td>2019-03-16 08:16:00</td>\n",
       "      <td>354807203625</td>\n",
       "      <td>5.0</td>\n",
       "    </tr>\n",
       "    <tr>\n",
       "      <th>1628921</th>\n",
       "      <td>1628921</td>\n",
       "      <td>39000</td>\n",
       "      <td>8497</td>\n",
       "      <td>Diesel Auto Clean</td>\n",
       "      <td>Fuel</td>\n",
       "      <td>Felix Daniels</td>\n",
       "      <td>Wadena</td>\n",
       "      <td>2.453</td>\n",
       "      <td>0.0</td>\n",
       "      <td>53.981</td>\n",
       "      <td>154.87</td>\n",
       "      <td>Credit Card</td>\n",
       "      <td>2017-04-03 07:50:00</td>\n",
       "      <td>3569202421</td>\n",
       "      <td>3.5</td>\n",
       "    </tr>\n",
       "    <tr>\n",
       "      <th>1628922</th>\n",
       "      <td>1628922</td>\n",
       "      <td>122000</td>\n",
       "      <td>1283003</td>\n",
       "      <td>Special Gasoline</td>\n",
       "      <td>Fuel</td>\n",
       "      <td>Karl Bridges</td>\n",
       "      <td>Chico</td>\n",
       "      <td>3.493</td>\n",
       "      <td>0.0</td>\n",
       "      <td>26.000</td>\n",
       "      <td>114.37</td>\n",
       "      <td>Extended payment plan/ In installments</td>\n",
       "      <td>2018-12-01 15:49:00</td>\n",
       "      <td>26945203461</td>\n",
       "      <td>7.5</td>\n",
       "    </tr>\n",
       "    <tr>\n",
       "      <th>1628923</th>\n",
       "      <td>1628923</td>\n",
       "      <td>122000</td>\n",
       "      <td>1283023</td>\n",
       "      <td>Special Gasoline</td>\n",
       "      <td>Fuel</td>\n",
       "      <td>Karl Bridges</td>\n",
       "      <td>Chico</td>\n",
       "      <td>3.493</td>\n",
       "      <td>0.0</td>\n",
       "      <td>26.000</td>\n",
       "      <td>114.37</td>\n",
       "      <td>Extended payment plan/ In installments</td>\n",
       "      <td>2018-12-01 16:11:00</td>\n",
       "      <td>26945203461</td>\n",
       "      <td>7.5</td>\n",
       "    </tr>\n",
       "    <tr>\n",
       "      <th>1628924</th>\n",
       "      <td>1628924</td>\n",
       "      <td>122000</td>\n",
       "      <td>1283030</td>\n",
       "      <td>Special Gasoline</td>\n",
       "      <td>Fuel</td>\n",
       "      <td>Karl Bridges</td>\n",
       "      <td>Chico</td>\n",
       "      <td>3.493</td>\n",
       "      <td>0.0</td>\n",
       "      <td>26.000</td>\n",
       "      <td>114.37</td>\n",
       "      <td>Extended payment plan/ In installments</td>\n",
       "      <td>2018-12-01 16:21:00</td>\n",
       "      <td>26945203461</td>\n",
       "      <td>7.5</td>\n",
       "    </tr>\n",
       "  </tbody>\n",
       "</table>\n",
       "</div>"
      ],
      "text/plain": [
       "         Unnamed: 0  Company Code  Order Number            Product  \\\n",
       "1628920     1628920      10743000       1526356           Gasoline   \n",
       "1628921     1628921         39000          8497  Diesel Auto Clean   \n",
       "1628922     1628922        122000       1283003   Special Gasoline   \n",
       "1628923     1628923        122000       1283023   Special Gasoline   \n",
       "1628924     1628924        122000       1283030   Special Gasoline   \n",
       "\n",
       "        Product Category         Client Client City  Product Cost  \\\n",
       "1628920             Fuel  Angelo Wagner      Clinas         3.657   \n",
       "1628921             Fuel  Felix Daniels      Wadena         2.453   \n",
       "1628922             Fuel   Karl Bridges       Chico         3.493   \n",
       "1628923             Fuel   Karl Bridges       Chico         3.493   \n",
       "1628924             Fuel   Karl Bridges       Chico         3.493   \n",
       "\n",
       "         Discount Amount  Amount   Total  \\\n",
       "1628920              0.0  37.985  150.00   \n",
       "1628921              0.0  53.981  154.87   \n",
       "1628922              0.0  26.000  114.37   \n",
       "1628923              0.0  26.000  114.37   \n",
       "1628924              0.0  26.000  114.37   \n",
       "\n",
       "                                Form of payment                Date  \\\n",
       "1628920  Extended payment plan/ In installments 2019-03-16 08:16:00   \n",
       "1628921                             Credit Card 2017-04-03 07:50:00   \n",
       "1628922  Extended payment plan/ In installments 2018-12-01 15:49:00   \n",
       "1628923  Extended payment plan/ In installments 2018-12-01 16:11:00   \n",
       "1628924  Extended payment plan/ In installments 2018-12-01 16:21:00   \n",
       "\n",
       "            ProductId  Rating  \n",
       "1628920  354807203625     5.0  \n",
       "1628921    3569202421     3.5  \n",
       "1628922   26945203461     7.5  \n",
       "1628923   26945203461     7.5  \n",
       "1628924   26945203461     7.5  "
      ]
     },
     "execution_count": 6,
     "metadata": {},
     "output_type": "execute_result"
    }
   ],
   "source": [
    "df.tail()"
   ]
  },
  {
   "cell_type": "code",
   "execution_count": 8,
   "metadata": {
    "colab": {
     "base_uri": "https://localhost:8080/"
    },
    "id": "LzPcnzrWbbSR",
    "outputId": "6f08a6ad-b113-49ca-963d-fcff04822b78"
   },
   "outputs": [
    {
     "data": {
      "text/plain": [
       "10816"
      ]
     },
     "execution_count": 8,
     "metadata": {},
     "output_type": "execute_result"
    }
   ],
   "source": [
    "df_client_product = df[['Client','ProductId','Rating']].copy()\n",
    "df_client_product = pd.merge(df_client_product,df_client_rfm,on='Client',how='left')\n",
    "\n",
    "df_client_product.drop_duplicates(keep='first',inplace=True,subset=['Client','ProductId']) \n",
    "\n",
    "\n",
    "n_users = df_client_product['Client'].nunique()\n",
    "n_users"
   ]
  },
  {
   "cell_type": "code",
   "execution_count": 9,
   "metadata": {
    "colab": {
     "base_uri": "https://localhost:8080/"
    },
    "id": "4XVTttXNboxJ",
    "outputId": "eecbad78-e289-4548-dd98-53ffe242531e"
   },
   "outputs": [
    {
     "data": {
      "text/plain": [
       "54708"
      ]
     },
     "execution_count": 9,
     "metadata": {},
     "output_type": "execute_result"
    }
   ],
   "source": [
    "df_product = df[['ProductId','Product','Product Category','Product Cost']].copy()\n",
    "df_product.drop_duplicates(keep='first',inplace=True) \n",
    "\n",
    "n_prod = df_product['ProductId'].nunique()\n",
    "n_prod"
   ]
  },
  {
   "cell_type": "markdown",
   "metadata": {},
   "source": [
    "#### Enocding prod-ID"
   ]
  },
  {
   "cell_type": "code",
   "execution_count": 10,
   "metadata": {
    "id": "mCd_H3bhfsv3"
   },
   "outputs": [],
   "source": [
    "from sklearn.model_selection import train_test_split\n",
    "from sklearn.preprocessing import LabelEncoder\n",
    "\n",
    "prod_enc = LabelEncoder()\n",
    "df_client_product['Client'] = prod_enc.fit_transform(df_client_product['Client'].values)\n",
    "\n",
    "# prod_enc = LabelEncoder()\n",
    "# df_product['Product'] = prod_enc.fit_transform(df_product['Product'].values)\n",
    "\n",
    "# prod_cat_enc = LabelEncoder()\n",
    "# df_product['Product Category'] = prod_cat_enc.fit_transform(df_product['Product Category'].values)\n",
    "\n",
    "prod_id_enc = LabelEncoder()\n",
    "df_product['ProductId'] = prod_id_enc.fit_transform(df_product['ProductId'].values)\n",
    "df_client_product['ProductId'] = prod_id_enc.transform(df_client_product['ProductId'].values)"
   ]
  },
  {
   "cell_type": "markdown",
   "metadata": {},
   "source": [
    "### save product csv for flask"
   ]
  },
  {
   "cell_type": "code",
   "execution_count": 11,
   "metadata": {
    "id": "7v6zhZxepVn5"
   },
   "outputs": [],
   "source": [
    "train, test = train_test_split(df_client_product, test_size=0.2, random_state=42)"
   ]
  },
  {
   "cell_type": "code",
   "execution_count": 12,
   "metadata": {},
   "outputs": [],
   "source": [
    "lr_schedule = keras.optimizers.schedules.ExponentialDecay(\n",
    "    initial_learning_rate=1e-2,\n",
    "    decay_steps=10000,\n",
    "    decay_rate=0.9)\n",
    "opt = keras.optimizers.Adam(learning_rate=lr_schedule)\n",
    "\n",
    "from keras.layers import Input, Embedding, Flatten, Dot, Dense,Concatenate\n",
    "from keras.models import Model\n",
    "from keras.optimizers import SGD\n"
   ]
  },
  {
   "cell_type": "code",
   "execution_count": 13,
   "metadata": {
    "id": "JitHDvYBmQBA"
   },
   "outputs": [],
   "source": [
    "# model 1 ids\n",
    "def create_model():\n",
    "    product_input = Input(shape=[1], name=\"Product-Input\")\n",
    "\n",
    "    product_embedding = Embedding(n_prod+1, 5, name=\"Product-Embedding\")(product_input)\n",
    "    product_vec = Flatten(name=\"Flatten-Product\")(product_embedding)\n",
    "\n",
    "    user_input = Input(shape=[1], name=\"User-Input\")\n",
    "    user_embedding = Embedding(n_users+1, 5, name=\"User-Embedding\")(user_input)\n",
    "    user_vec = Flatten(name=\"Flatten-Users\")(user_embedding)\n",
    "    prod = Dot(name=\"Dot-Product\", axes=1)([product_vec, user_vec])\n",
    "    model = Model([user_input, product_input], prod)\n",
    "    model.compile( loss='mean_squared_error',optimizer=opt)\n",
    "    return model\n"
   ]
  },
  {
   "cell_type": "code",
   "execution_count": 14,
   "metadata": {
    "colab": {
     "base_uri": "https://localhost:8080/"
    },
    "id": "gIAI_a0QpXhP",
    "outputId": "8b154ec4-a450-47a2-8ef6-d4edc70b5ae6"
   },
   "outputs": [
    {
     "name": "stdout",
     "output_type": "stream",
     "text": [
      "Epoch 1/5\n",
      "12577/12577 [==============================] - 45s 3ms/step - loss: 17.0612 - val_loss: 3.5951\n",
      "Epoch 2/5\n",
      "12577/12577 [==============================] - 41s 3ms/step - loss: 2.1205 - val_loss: 2.3931\n",
      "Epoch 3/5\n",
      "12577/12577 [==============================] - 41s 3ms/step - loss: 1.1086 - val_loss: 2.0276\n",
      "Epoch 4/5\n",
      "12577/12577 [==============================] - 41s 3ms/step - loss: 0.7860 - val_loss: 1.8120\n",
      "Epoch 5/5\n",
      "12577/12577 [==============================] - 42s 3ms/step - loss: 0.6137 - val_loss: 1.6699\n"
     ]
    }
   ],
   "source": [
    "model = create_model()\n",
    "history = model.fit([train[['Client']],\n",
    "                     train[['ProductId']]], train['Rating'],\n",
    "                    validation_data=\n",
    "                    ([test[['Client']],\n",
    "                      test['ProductId']], test['Rating']), epochs=5, verbose=1)\n",
    "\n",
    "# model.save('regression_model_basic.h5')"
   ]
  },
  {
   "cell_type": "code",
   "execution_count": 15,
   "metadata": {
    "colab": {
     "background_save": true
    },
    "id": "az3-ob4qGSSK",
    "outputId": "8e12270c-a699-475f-cd5e-1c274b8a5352"
   },
   "outputs": [
    {
     "data": {
      "image/png": "[encoded data removed]",
      "text/plain": [
       "<Figure size 432x288 with 1 Axes>"
      ]
     },
     "metadata": {
      "needs_background": "light"
     },
     "output_type": "display_data"
    }
   ],
   "source": [
    "plt.plot(history.history[\"loss\"])\n",
    "plt.plot(history.history[\"val_loss\"])\n",
    "plt.title(\"model loss Baseline\")\n",
    "\n",
    "plt.ylabel(\"loss\")\n",
    "plt.xlabel(\"epoch\")\n",
    "plt.legend([\"train\", \"test\"], loc=\"upper right\")\n",
    "plt.show()\n"
   ]
  },
  {
   "cell_type": "code",
   "execution_count": 16,
   "metadata": {
    "colab": {
     "background_save": true
    },
    "id": "h-MO9eYwiOMU"
   },
   "outputs": [],
   "source": [
    "test[['Client','Rank_Recency','Rank_Frequency','Rank_Monetary','Cluster']].iloc[1]\n",
    "test['ProductId'].values\n",
    "product_db = np.array(list(set(test['ProductId'])))"
   ]
  },
  {
   "cell_type": "code",
   "execution_count": 22,
   "metadata": {
    "colab": {
     "background_save": true
    },
    "id": "PQPS1Rm8gYF8"
   },
   "outputs": [],
   "source": [
    "# Creating dataset for making recommendations for the first user\n",
    "# Without RFM\n",
    "\n",
    "product_db = np.array(list(set(train['ProductId'])))\n",
    "\n",
    "user = test[['Client','Rank_Recency','Rank_Frequency','Rank_Monetary','Cluster']].iloc[1]\n",
    "user = np.array([1 for i in range(len(product_db))])\n",
    "\n",
    "predictions = model.predict([user, product_db])\n",
    "\n",
    "predictions = np.array([a[0] for a in predictions])\n",
    "\n",
    "# recommended_book_ids = (-predictions).argsort()[:5]\n",
    "# print(recommended_book_ids)\n",
    "# print(predictions[recommended_book_ids])"
   ]
  },
  {
   "cell_type": "code",
   "execution_count": 23,
   "metadata": {},
   "outputs": [
    {
     "data": {
      "text/plain": [
       "array([-0.05453861,  2.0040338 ,  0.13480043, ..., -1.2541056 ,\n",
       "        2.7739727 ,  2.234133  ], dtype=float32)"
      ]
     },
     "execution_count": 23,
     "metadata": {},
     "output_type": "execute_result"
    }
   ],
   "source": [
    "predictions"
   ]
  },
  {
   "cell_type": "code",
   "execution_count": 24,
   "metadata": {
    "colab": {
     "background_save": true
    },
    "id": "v67EUYlysFUI",
    "outputId": "f3b490be-f840-4a18-e3d3-4fbe6b7a2f52"
   },
   "outputs": [
    {
     "data": {
      "text/plain": [
       "7.5846205"
      ]
     },
     "execution_count": 24,
     "metadata": {},
     "output_type": "execute_result"
    }
   ],
   "source": [
    "max(predictions)"
   ]
  }
 ],
 "metadata": {
  "accelerator": "GPU",
  "colab": {
   "collapsed_sections": [],
   "name": "Movie_len test.ipynb",
   "provenance": []
  },
  "kernelspec": {
   "display_name": "Python 3",
   "language": "python",
   "name": "python3"
  },
  "language_info": {
   "codemirror_mode": {
    "name": "ipython",
    "version": 3
   },
   "file_extension": ".py",
   "mimetype": "text/x-python",
   "name": "python",
   "nbconvert_exporter": "python",
   "pygments_lexer": "ipython3",
   "version": "3.8.6"
  }
 },
 "nbformat": 4,
 "nbformat_minor": 1
}
