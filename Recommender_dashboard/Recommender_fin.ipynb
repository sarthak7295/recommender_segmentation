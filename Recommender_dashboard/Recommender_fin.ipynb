{
 "cells": [
  {
   "cell_type": "code",
   "execution_count": 1,
   "metadata": {
    "colab": {
     "base_uri": "https://localhost:8080/"
    },
    "id": "EVvFASiPd30P",
    "outputId": "b5a31980-74d7-4b76-8804-b546ccbb1d01"
   },
   "outputs": [
    {
     "name": "stdout",
     "output_type": "stream",
     "text": [
      "Setup done\n"
     ]
    }
   ],
   "source": [
    "import pandas as pd\n",
    "import numpy as np\n",
    "import tensorflow as tf\n",
    "from tensorflow import keras\n",
    "from tensorflow.keras import layers\n",
    "import matplotlib.pyplot as plt\n",
    "print('Setup done')"
   ]
  },
  {
   "cell_type": "code",
   "execution_count": 2,
   "metadata": {
    "colab": {
     "base_uri": "https://localhost:8080/"
    },
    "id": "u-lU34qpOGt4",
    "outputId": "7456e15d-3d02-484e-b0f1-1b51393252df"
   },
   "outputs": [],
   "source": [
    "# from google.colab import drive\n",
    "\n",
    "# drive.mount('/content/gdrive',force_remount=True)"
   ]
  },
  {
   "cell_type": "code",
   "execution_count": 3,
   "metadata": {
    "colab": {
     "base_uri": "https://localhost:8080/"
    },
    "id": "eFJj83sOIbgn",
    "outputId": "891dd4fe-eb6b-4f29-91e0-1fa1cd0c6284"
   },
   "outputs": [
    {
     "name": "stdout",
     "output_type": "stream",
     "text": [
      "dataset Loaded\n"
     ]
    }
   ],
   "source": [
    "df = pd.read_csv('./sar.csv', sep=',')\n",
    "df_client_rfm = pd.read_csv('./client_rfm.csv', sep=',')\n",
    "print(\"dataset Loaded\")"
   ]
  },
  {
   "cell_type": "code",
   "execution_count": 4,
   "metadata": {
    "id": "sZO_dyJfH2z2"
   },
   "outputs": [],
   "source": [
    "df_client_rfm = df_client_rfm[['Client','Rank_Recency','Rank_Frequency','Rank_Monetary','Cluster']]"
   ]
  },
  {
   "cell_type": "code",
   "execution_count": 5,
   "metadata": {
    "colab": {
     "base_uri": "https://localhost:8080/"
    },
    "id": "RULpnoC-Unsf",
    "outputId": "9de35ab8-e488-44fd-fbbd-8289a3078e35"
   },
   "outputs": [
    {
     "data": {
      "text/plain": [
       "54708"
      ]
     },
     "execution_count": 5,
     "metadata": {},
     "output_type": "execute_result"
    }
   ],
   "source": [
    "df['ProductId'].nunique()"
   ]
  },
  {
   "cell_type": "code",
   "execution_count": 6,
   "metadata": {
    "colab": {
     "base_uri": "https://localhost:8080/"
    },
    "id": "LzPcnzrWbbSR",
    "outputId": "6f08a6ad-b113-49ca-963d-fcff04822b78"
   },
   "outputs": [
    {
     "data": {
      "text/plain": [
       "10816"
      ]
     },
     "execution_count": 6,
     "metadata": {},
     "output_type": "execute_result"
    }
   ],
   "source": [
    "df_client_product = df[['Client','ProductId','Rating']].copy()\n",
    "df_client_product = pd.merge(df_client_product,df_client_rfm,on='Client',how='left')\n",
    "\n",
    "df_client_product.drop_duplicates(keep='first',inplace=True,subset=['Client','ProductId']) \n",
    "\n",
    "\n",
    "n_users = df_client_product['Client'].nunique()\n",
    "n_users"
   ]
  },
  {
   "cell_type": "code",
   "execution_count": 7,
   "metadata": {
    "colab": {
     "base_uri": "https://localhost:8080/"
    },
    "id": "4XVTttXNboxJ",
    "outputId": "eecbad78-e289-4548-dd98-53ffe242531e"
   },
   "outputs": [
    {
     "data": {
      "text/plain": [
       "54708"
      ]
     },
     "execution_count": 7,
     "metadata": {},
     "output_type": "execute_result"
    }
   ],
   "source": [
    "df_product = df[['ProductId','Product','Product Category','Product Cost']].copy()\n",
    "df_product.drop_duplicates(keep='first',inplace=True) \n",
    "\n",
    "n_prod = df_product['ProductId'].nunique()\n",
    "n_prod"
   ]
  },
  {
   "cell_type": "code",
   "execution_count": 8,
   "metadata": {
    "id": "mCd_H3bhfsv3"
   },
   "outputs": [],
   "source": [
    "from sklearn.model_selection import train_test_split\n",
    "from sklearn.preprocessing import LabelEncoder\n",
    "\n",
    "prod_enc = LabelEncoder()\n",
    "df_client_product['Client'] = prod_enc.fit_transform(df_client_product['Client'].values)\n",
    "\n",
    "prod_enc = LabelEncoder()\n",
    "df_product['Product'] = prod_enc.fit_transform(df_product['Product'].values)\n",
    "\n",
    "prod_cat_enc = LabelEncoder()\n",
    "df_product['Product Category'] = prod_cat_enc.fit_transform(df_product['Product Category'].values)\n",
    "\n",
    "prod_id_enc = LabelEncoder()\n",
    "df_product['ProductId'] = prod_id_enc.fit_transform(df_product['ProductId'].values)\n",
    "df_client_product['ProductId'] = prod_id_enc.transform(df_client_product['ProductId'].values)"
   ]
  },
  {
   "cell_type": "code",
   "execution_count": 9,
   "metadata": {
    "id": "7v6zhZxepVn5"
   },
   "outputs": [],
   "source": [
    "train, test = train_test_split(df_client_product, test_size=0.2, random_state=42)"
   ]
  },
  {
   "cell_type": "code",
   "execution_count": 10,
   "metadata": {
    "id": "JitHDvYBmQBA"
   },
   "outputs": [],
   "source": [
    "from keras.layers import Input, Embedding, Flatten, Dot, Dense,Concatenate\n",
    "from keras.models import Model\n",
    "\n",
    "product_input = Input(shape=[1], name=\"Product-Input\")\n",
    "\n",
    "product_embedding = Embedding(n_prod+1, 5, name=\"Product-Embedding\")(product_input)\n",
    "product_vec = Flatten(name=\"Flatten-Product\")(product_embedding)\n",
    "\n",
    "user_input = Input(shape=[1], name=\"User-Input\")\n",
    "user_embedding = Embedding(n_users+1, 5, name=\"User-Embedding\")(user_input)\n",
    "user_vec = Flatten(name=\"Flatten-Users\")(user_embedding)\n",
    "prod = Dot(name=\"Dot-Product\", axes=1)([product_vec, user_vec])\n",
    "model = Model([user_input, product_input], prod)\n",
    "model.compile('adam', 'mean_squared_error')"
   ]
  },
  {
   "cell_type": "code",
   "execution_count": 11,
   "metadata": {
    "id": "YtpLXVolko_e"
   },
   "outputs": [],
   "source": [
    "from keras.layers import Input, Embedding, Flatten, Dot, Dense,Concatenate\n",
    "from keras.models import Model\n",
    "\n",
    "product_input = Input(shape=[1], name=\"Product-Input\")\n",
    "\n",
    "product_embedding = Embedding(n_prod+1, 5, name=\"Product-Embedding\")(product_input)\n",
    "product_vec = Flatten(name=\"Flatten-Product\")(product_embedding)\n",
    "\n",
    "user_input = Input(shape=[5], name=\"User-Input\")\n",
    "user_embedding = Embedding(n_users+1, 8, name=\"User-Embedding\")(user_input)\n",
    "user_vec = Flatten(name=\"Flatten-Users\")(user_embedding)\n",
    "# prod = Dot(name=\"Dot-Product\", axes=1)([product_vec, user_vec])\n",
    "concatted = Concatenate()([product_vec, user_vec])\n",
    "d = Dense(4, kernel_initializer='normal')(concatted)\n",
    "out = Dense(1, kernel_initializer='normal')(d)\n",
    "model_rfm = Model([user_input, product_input], out)\n",
    "model_rfm.compile('adam', 'mean_squared_error')"
   ]
  },
  {
   "cell_type": "code",
   "execution_count": 12,
   "metadata": {
    "colab": {
     "base_uri": "https://localhost:8080/",
     "height": 424
    },
    "id": "-5Pew3xWetug",
    "outputId": "74ad2157-921c-43c4-f2ce-e36a297599e5"
   },
   "outputs": [
    {
     "data": {
      "text/html": [
       "<div>\n",
       "<style scoped>\n",
       "    .dataframe tbody tr th:only-of-type {\n",
       "        vertical-align: middle;\n",
       "    }\n",
       "\n",
       "    .dataframe tbody tr th {\n",
       "        vertical-align: top;\n",
       "    }\n",
       "\n",
       "    .dataframe thead th {\n",
       "        text-align: right;\n",
       "    }\n",
       "</style>\n",
       "<table border=\"1\" class=\"dataframe\">\n",
       "  <thead>\n",
       "    <tr style=\"text-align: right;\">\n",
       "      <th></th>\n",
       "      <th>Client</th>\n",
       "      <th>ProductId</th>\n",
       "      <th>Rating</th>\n",
       "      <th>Rank_Recency</th>\n",
       "      <th>Rank_Frequency</th>\n",
       "      <th>Rank_Monetary</th>\n",
       "      <th>Cluster</th>\n",
       "    </tr>\n",
       "  </thead>\n",
       "  <tbody>\n",
       "    <tr>\n",
       "      <th>0</th>\n",
       "      <td>763</td>\n",
       "      <td>18402</td>\n",
       "      <td>7.5</td>\n",
       "      <td>1736</td>\n",
       "      <td>2000</td>\n",
       "      <td>2000</td>\n",
       "      <td>4</td>\n",
       "    </tr>\n",
       "    <tr>\n",
       "      <th>32</th>\n",
       "      <td>8310</td>\n",
       "      <td>17466</td>\n",
       "      <td>7.5</td>\n",
       "      <td>1170</td>\n",
       "      <td>2000</td>\n",
       "      <td>2000</td>\n",
       "      <td>4</td>\n",
       "    </tr>\n",
       "    <tr>\n",
       "      <th>64</th>\n",
       "      <td>697</td>\n",
       "      <td>14033</td>\n",
       "      <td>6.5</td>\n",
       "      <td>2001</td>\n",
       "      <td>2000</td>\n",
       "      <td>2000</td>\n",
       "      <td>4</td>\n",
       "    </tr>\n",
       "    <tr>\n",
       "      <th>96</th>\n",
       "      <td>763</td>\n",
       "      <td>23790</td>\n",
       "      <td>7.5</td>\n",
       "      <td>1736</td>\n",
       "      <td>2000</td>\n",
       "      <td>2000</td>\n",
       "      <td>4</td>\n",
       "    </tr>\n",
       "    <tr>\n",
       "      <th>128</th>\n",
       "      <td>763</td>\n",
       "      <td>16787</td>\n",
       "      <td>7.5</td>\n",
       "      <td>1736</td>\n",
       "      <td>2000</td>\n",
       "      <td>2000</td>\n",
       "      <td>4</td>\n",
       "    </tr>\n",
       "    <tr>\n",
       "      <th>...</th>\n",
       "      <td>...</td>\n",
       "      <td>...</td>\n",
       "      <td>...</td>\n",
       "      <td>...</td>\n",
       "      <td>...</td>\n",
       "      <td>...</td>\n",
       "      <td>...</td>\n",
       "    </tr>\n",
       "    <tr>\n",
       "      <th>1628892</th>\n",
       "      <td>2233</td>\n",
       "      <td>9840</td>\n",
       "      <td>4.5</td>\n",
       "      <td>1346</td>\n",
       "      <td>1562</td>\n",
       "      <td>1471</td>\n",
       "      <td>4</td>\n",
       "    </tr>\n",
       "    <tr>\n",
       "      <th>1628917</th>\n",
       "      <td>5848</td>\n",
       "      <td>9904</td>\n",
       "      <td>6.0</td>\n",
       "      <td>1515</td>\n",
       "      <td>1762</td>\n",
       "      <td>1802</td>\n",
       "      <td>4</td>\n",
       "    </tr>\n",
       "    <tr>\n",
       "      <th>1628918</th>\n",
       "      <td>6270</td>\n",
       "      <td>3711</td>\n",
       "      <td>6.0</td>\n",
       "      <td>1824</td>\n",
       "      <td>1940</td>\n",
       "      <td>1905</td>\n",
       "      <td>4</td>\n",
       "    </tr>\n",
       "    <tr>\n",
       "      <th>1628920</th>\n",
       "      <td>519</td>\n",
       "      <td>40335</td>\n",
       "      <td>5.0</td>\n",
       "      <td>1535</td>\n",
       "      <td>1426</td>\n",
       "      <td>1139</td>\n",
       "      <td>4</td>\n",
       "    </tr>\n",
       "    <tr>\n",
       "      <th>1628921</th>\n",
       "      <td>3438</td>\n",
       "      <td>2781</td>\n",
       "      <td>3.5</td>\n",
       "      <td>608</td>\n",
       "      <td>1961</td>\n",
       "      <td>1934</td>\n",
       "      <td>3</td>\n",
       "    </tr>\n",
       "  </tbody>\n",
       "</table>\n",
       "<p>503066 rows × 7 columns</p>\n",
       "</div>"
      ],
      "text/plain": [
       "         Client  ProductId  Rating  Rank_Recency  Rank_Frequency  \\\n",
       "0           763      18402     7.5          1736            2000   \n",
       "32         8310      17466     7.5          1170            2000   \n",
       "64          697      14033     6.5          2001            2000   \n",
       "96          763      23790     7.5          1736            2000   \n",
       "128         763      16787     7.5          1736            2000   \n",
       "...         ...        ...     ...           ...             ...   \n",
       "1628892    2233       9840     4.5          1346            1562   \n",
       "1628917    5848       9904     6.0          1515            1762   \n",
       "1628918    6270       3711     6.0          1824            1940   \n",
       "1628920     519      40335     5.0          1535            1426   \n",
       "1628921    3438       2781     3.5           608            1961   \n",
       "\n",
       "         Rank_Monetary  Cluster  \n",
       "0                 2000        4  \n",
       "32                2000        4  \n",
       "64                2000        4  \n",
       "96                2000        4  \n",
       "128               2000        4  \n",
       "...                ...      ...  \n",
       "1628892           1471        4  \n",
       "1628917           1802        4  \n",
       "1628918           1905        4  \n",
       "1628920           1139        4  \n",
       "1628921           1934        3  \n",
       "\n",
       "[503066 rows x 7 columns]"
      ]
     },
     "execution_count": 12,
     "metadata": {},
     "output_type": "execute_result"
    }
   ],
   "source": [
    "df_client_product"
   ]
  },
  {
   "cell_type": "code",
   "execution_count": 13,
   "metadata": {
    "colab": {
     "base_uri": "https://localhost:8080/"
    },
    "id": "gIAI_a0QpXhP",
    "outputId": "8b154ec4-a450-47a2-8ef6-d4edc70b5ae6"
   },
   "outputs": [
    {
     "name": "stdout",
     "output_type": "stream",
     "text": [
      "12577/12577 [==============================] - 50s 4ms/step - loss: 22.8425 - val_loss: 18.4678\n"
     ]
    }
   ],
   "source": [
    "history = model.fit([train[['Client']],\n",
    "                     train[['ProductId']]], train['Rating'],\n",
    "                    validation_data=\n",
    "                    ([test[['Client']],\n",
    "                      test['ProductId']], test['Rating']), epochs=1, verbose=1)\n",
    "model.save('regression_model_basic.h5')"
   ]
  },
  {
   "cell_type": "code",
   "execution_count": 14,
   "metadata": {
    "colab": {
     "background_save": true,
     "base_uri": "https://localhost:8080/"
    },
    "id": "MGe3H3-hko-D",
    "outputId": "35b83d73-c28d-4963-dee6-8968b7f2000a"
   },
   "outputs": [
    {
     "name": "stdout",
     "output_type": "stream",
     "text": [
      "Epoch 1/5\n",
      "12577/12577 [==============================] - 50s 4ms/step - loss: 2.3014 - val_loss: 0.5036\n",
      "Epoch 2/5\n",
      "12577/12577 [==============================] - 50s 4ms/step - loss: 0.4197 - val_loss: 0.4595\n",
      "Epoch 3/5\n",
      "12577/12577 [==============================] - 51s 4ms/step - loss: 0.3742 - val_loss: 0.4451\n",
      "Epoch 4/5\n",
      "12577/12577 [==============================] - 54s 4ms/step - loss: 0.3492 - val_loss: 0.4414\n",
      "Epoch 5/5\n",
      "12577/12577 [==============================] - 52s 4ms/step - loss: 0.3326 - val_loss: 0.4362\n"
     ]
    }
   ],
   "source": [
    "history_rfm = model_rfm.fit([train[['Client','Rank_Recency','Rank_Frequency','Rank_Monetary','Cluster']],\n",
    "                             train[['ProductId']]], train['Rating'],\n",
    "                            validation_data=([test[['Client','Rank_Recency','Rank_Frequency','Rank_Monetary','Cluster']],\n",
    "                                              test['ProductId']], test['Rating']), epochs=5, verbose=1)\n",
    "model_rfm.save('regression_model.h5')"
   ]
  },
  {
   "cell_type": "code",
   "execution_count": 15,
   "metadata": {
    "colab": {
     "background_save": true
    },
    "id": "az3-ob4qGSSK",
    "outputId": "8e12270c-a699-475f-cd5e-1c274b8a5352"
   },
   "outputs": [
    {
     "data": {
      "image/png": "[encoded data removed]",
      "text/plain": [
       "<Figure size 432x288 with 1 Axes>"
      ]
     },
     "metadata": {
      "needs_background": "light"
     },
     "output_type": "display_data"
    }
   ],
   "source": [
    "plt.plot(history.history[\"loss\"])\n",
    "plt.plot(history.history[\"val_loss\"])\n",
    "plt.title(\"model loss\")\n",
    "\n",
    "plt.ylabel(\"loss\")\n",
    "plt.xlabel(\"epoch\")\n",
    "plt.legend([\"train\", \"test\"], loc=\"upper right\")\n",
    "plt.show()\n"
   ]
  },
  {
   "cell_type": "code",
   "execution_count": 16,
   "metadata": {},
   "outputs": [
    {
     "data": {
      "image/png": "[encoded data removed]",
      "text/plain": [
       "<Figure size 432x288 with 1 Axes>"
      ]
     },
     "metadata": {
      "needs_background": "light"
     },
     "output_type": "display_data"
    }
   ],
   "source": [
    "plt.plot(history_rfm.history[\"loss\"])\n",
    "plt.plot(history_rfm.history[\"val_loss\"])\n",
    "plt.title(\"model loss\")\n",
    "plt.ylabel(\"loss\")\n",
    "plt.xlabel(\"epoch\")\n",
    "plt.legend([\"train\", \"test\"], loc=\"upper right\")\n",
    "plt.show()"
   ]
  },
  {
   "cell_type": "code",
   "execution_count": 17,
   "metadata": {
    "colab": {
     "background_save": true
    },
    "id": "h-MO9eYwiOMU"
   },
   "outputs": [],
   "source": [
    "test[['Client','Rank_Recency','Rank_Frequency','Rank_Monetary','Cluster']].iloc[1]\n",
    "test['ProductId'].values\n",
    "product_db = np.array(list(set(test['ProductId'])))"
   ]
  },
  {
   "cell_type": "code",
   "execution_count": 18,
   "metadata": {
    "colab": {
     "background_save": true
    },
    "id": "PQPS1Rm8gYF8"
   },
   "outputs": [],
   "source": [
    "# Creating dataset for making recommendations for the first user\n",
    "# Without RFM\n",
    "\n",
    "product_db = np.array(list(set(train['ProductId'])))\n",
    "\n",
    "user = test[['Client','Rank_Recency','Rank_Frequency','Rank_Monetary','Cluster']].iloc[1]\n",
    "user = np.array([1 for i in range(len(product_db))])\n",
    "\n",
    "predictions = model.predict([user, product_db])\n",
    "\n",
    "predictions = np.array([a[0] for a in predictions])\n",
    "\n",
    "# recommended_book_ids = (-predictions).argsort()[:5]\n",
    "# print(recommended_book_ids)\n",
    "# print(predictions[recommended_book_ids])"
   ]
  },
  {
   "cell_type": "code",
   "execution_count": 19,
   "metadata": {
    "colab": {
     "background_save": true
    },
    "id": "TLUR7eJxn-zD",
    "outputId": "bcad9c5c-43b2-4472-dd66-afcecd987bde"
   },
   "outputs": [
    {
     "data": {
      "text/plain": [
       "51233"
      ]
     },
     "execution_count": 19,
     "metadata": {},
     "output_type": "execute_result"
    }
   ],
   "source": [
    "len(product_db)"
   ]
  },
  {
   "cell_type": "code",
   "execution_count": 20,
   "metadata": {},
   "outputs": [],
   "source": [
    "product_db = np.array(list(set(df_client_product['ProductId'])))"
   ]
  },
  {
   "cell_type": "code",
   "execution_count": 21,
   "metadata": {
    "colab": {
     "background_save": true
    },
    "id": "RVkb1wdsldYW"
   },
   "outputs": [],
   "source": [
    "# Creating dataset for making recommendations for the first user\n",
    "# With RFM\n",
    "\n",
    "product_db = np.array(list(set(df_client_product['ProductId'])))\n",
    "\n",
    "user = test[['Client','Rank_Recency','Rank_Frequency','Rank_Monetary','Cluster']].iloc[1].values\n",
    "user_t = np.array([user for i in range(len(product_db))])\n",
    "\n",
    "predictions = model_rfm.predict([user_t, product_db])\n",
    "\n",
    "predictions = np.array([a[0] for a in predictions])\n",
    "\n",
    "# recommended_book_ids = (-predictions).argsort()[:5]\n",
    "# print(recommended_book_ids)\n",
    "# print(predictions[recommended_book_ids])"
   ]
  },
  {
   "cell_type": "code",
   "execution_count": 22,
   "metadata": {
    "colab": {
     "background_save": true
    },
    "id": "3eJxBd5zshr4",
    "outputId": "0a1913d8-2180-41e6-d7dc-296d5bfbbda6"
   },
   "outputs": [
    {
     "data": {
      "text/plain": [
       "array([5.334894 , 3.1164885, 3.7912755, ..., 5.2132816, 4.442734 ,\n",
       "       4.636629 ], dtype=float32)"
      ]
     },
     "execution_count": 22,
     "metadata": {},
     "output_type": "execute_result"
    }
   ],
   "source": [
    "predictions"
   ]
  },
  {
   "cell_type": "code",
   "execution_count": 23,
   "metadata": {
    "colab": {
     "background_save": true
    },
    "id": "v67EUYlysFUI",
    "outputId": "f3b490be-f840-4a18-e3d3-4fbe6b7a2f52"
   },
   "outputs": [
    {
     "data": {
      "text/plain": [
       "6.6092215"
      ]
     },
     "execution_count": 23,
     "metadata": {},
     "output_type": "execute_result"
    }
   ],
   "source": [
    "max(predictions)"
   ]
  }
 ],
 "metadata": {
  "accelerator": "GPU",
  "colab": {
   "collapsed_sections": [],
   "name": "Movie_len test.ipynb",
   "provenance": []
  },
  "kernelspec": {
   "display_name": "Python 3",
   "language": "python",
   "name": "python3"
  },
  "language_info": {
   "codemirror_mode": {
    "name": "ipython",
    "version": 3
   },
   "file_extension": ".py",
   "mimetype": "text/x-python",
   "name": "python",
   "nbconvert_exporter": "python",
   "pygments_lexer": "ipython3",
   "version": "3.8.6"
  }
 },
 "nbformat": 4,
 "nbformat_minor": 1
}
